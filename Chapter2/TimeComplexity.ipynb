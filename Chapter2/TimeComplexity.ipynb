{
 "cells": [
  {
   "cell_type": "markdown",
   "metadata": {},
   "source": [
    "# 시간 복잡도"
   ]
  },
  {
   "cell_type": "markdown",
   "metadata": {},
   "source": [
    "## 시간 복잡도 줄이기"
   ]
  },
  {
   "cell_type": "markdown",
   "metadata": {},
   "source": [
    "- 입력값을 받을 때는 input() 대신 **sys.stdin.readline()** 사용\n",
    "- 고정 배열이 필요할 때, list comprehension 대신 **리스트 곱셈 연산**을 사용\n",
    "- 문자열 합치기: .join() 사용, +는 사용 X\n",
    "- 조건문 연산 줄이기: 짧은 것부터 먼저 계산\n",
    "    - if A and B에서, A가 False일 경우 B는 계산하지 않음 (이미 False이기 때문에)\n",
    "    - if A or B에서, A가 True일 경우 B는 계산하지 않음 (이미 True이기 때문에)\n",
    "- 슬라이싱: 불필요한 연산 최소로\n",
    "- list comprehension vs generator"
   ]
  },
  {
   "cell_type": "markdown",
   "metadata": {},
   "source": [
    "## 여러 상황에서의 시간 복잡도 생각하기\n",
    "- 가장 오래 걸리는 반복문을 찾는 것이 핵심\n",
    "- 차수의 계수 생략하지 않기"
   ]
  },
  {
   "cell_type": "code",
   "execution_count": 1,
   "metadata": {},
   "outputs": [],
   "source": [
    "import sys, time"
   ]
  },
  {
   "cell_type": "code",
   "execution_count": null,
   "metadata": {},
   "outputs": [],
   "source": [
    "data = sys.stdin.readline()"
   ]
  },
  {
   "cell_type": "code",
   "execution_count": 5,
   "metadata": {},
   "outputs": [
    {
     "name": "stdout",
     "output_type": "stream",
     "text": [
      "first time: 0.387840\n",
      "second time: 0.019283\n"
     ]
    }
   ],
   "source": [
    "\n",
    "startTime = time.time()\n",
    "data1 = [0 for _ in range(10000000)] # list comprehension\n",
    "\n",
    "endTime = time.time()\n",
    "data2 = [0] * 10000000 # 리스트 곱셈 연산\n",
    "\n",
    "print('first time: %f' % (endTime - startTime))\n",
    "print('second time: %f' % (time.time() - endTime))\n",
    "\n",
    "del data1, data2"
   ]
  },
  {
   "cell_type": "code",
   "execution_count": 9,
   "metadata": {},
   "outputs": [
    {
     "name": "stdout",
     "output_type": "stream",
     "text": [
      "a: [0, 1, 2, 3, 4, 5, 6, 7, 8, 9, 10, 11, 12, 13, 14]\n",
      "a[:10]: [0, 1, 2, 3, 4, 5, 6, 7, 8, 9]\n",
      "a[3:6]: [3, 4, 5]\n",
      "a[::2]: [0, 2, 4, 6, 8, 10, 12, 14]\n",
      "a[-2]: 13\n"
     ]
    }
   ],
   "source": [
    "a = [i for i in range(15)]\n",
    "print('a:',a)\n",
    "print('a[:10]:',a[:10])\n",
    "print('a[3:6]:',a[3:6])\n",
    "print('a[::2]:',a[::2])\n",
    "print('a[-2]:',a[-2])"
   ]
  },
  {
   "cell_type": "code",
   "execution_count": 8,
   "metadata": {},
   "outputs": [
    {
     "name": "stdout",
     "output_type": "stream",
     "text": [
      "b: [0, 10, 20, 30]\n"
     ]
    }
   ],
   "source": [
    "# list comprehension\n",
    "b = [i for i in range(31) if i % 2 == 0 if i % 5 == 0]\n",
    "print('b:',b)"
   ]
  },
  {
   "cell_type": "code",
   "execution_count": 29,
   "metadata": {},
   "outputs": [],
   "source": [
    "# generator\n",
    "c = (i for i in range(11))"
   ]
  },
  {
   "cell_type": "code",
   "execution_count": 33,
   "metadata": {},
   "outputs": [
    {
     "data": {
      "text/plain": [
       "3"
      ]
     },
     "execution_count": 33,
     "metadata": {},
     "output_type": "execute_result"
    }
   ],
   "source": [
    "next(c)"
   ]
  }
 ],
 "metadata": {
  "kernelspec": {
   "display_name": "ml_env",
   "language": "python",
   "name": "python3"
  },
  "language_info": {
   "codemirror_mode": {
    "name": "ipython",
    "version": 3
   },
   "file_extension": ".py",
   "mimetype": "text/x-python",
   "name": "python",
   "nbconvert_exporter": "python",
   "pygments_lexer": "ipython3",
   "version": "3.11.5"
  }
 },
 "nbformat": 4,
 "nbformat_minor": 2
}
